{
 "cells": [
  {
   "cell_type": "code",
   "execution_count": 1,
   "id": "f9af766c",
   "metadata": {},
   "outputs": [],
   "source": [
    "import pandas as pd\n",
    "import numpy as np\n",
    "import matplotlib.pyplot as plt\n",
    "import seaborn as sns"
   ]
  },
  {
   "cell_type": "code",
   "execution_count": 2,
   "id": "7a0dfc2c",
   "metadata": {},
   "outputs": [],
   "source": [
    "df = pd.read_csv(r\"C:\\Users\\vaclavmalecek\\Desktop\\data_science\\opsd_germany_daily.csv\")"
   ]
  },
  {
   "cell_type": "code",
   "execution_count": 3,
   "id": "4116c4d8",
   "metadata": {},
   "outputs": [
    {
     "data": {
      "text/html": [
       "<div>\n",
       "<style scoped>\n",
       "    .dataframe tbody tr th:only-of-type {\n",
       "        vertical-align: middle;\n",
       "    }\n",
       "\n",
       "    .dataframe tbody tr th {\n",
       "        vertical-align: top;\n",
       "    }\n",
       "\n",
       "    .dataframe thead th {\n",
       "        text-align: right;\n",
       "    }\n",
       "</style>\n",
       "<table border=\"1\" class=\"dataframe\">\n",
       "  <thead>\n",
       "    <tr style=\"text-align: right;\">\n",
       "      <th></th>\n",
       "      <th>Date</th>\n",
       "      <th>Consumption</th>\n",
       "      <th>Wind</th>\n",
       "      <th>Solar</th>\n",
       "      <th>Wind+Solar</th>\n",
       "    </tr>\n",
       "  </thead>\n",
       "  <tbody>\n",
       "    <tr>\n",
       "      <th>0</th>\n",
       "      <td>2006-01-01</td>\n",
       "      <td>1069.184</td>\n",
       "      <td>NaN</td>\n",
       "      <td>NaN</td>\n",
       "      <td>NaN</td>\n",
       "    </tr>\n",
       "    <tr>\n",
       "      <th>1</th>\n",
       "      <td>2006-01-02</td>\n",
       "      <td>1380.521</td>\n",
       "      <td>NaN</td>\n",
       "      <td>NaN</td>\n",
       "      <td>NaN</td>\n",
       "    </tr>\n",
       "    <tr>\n",
       "      <th>2</th>\n",
       "      <td>2006-01-03</td>\n",
       "      <td>1442.533</td>\n",
       "      <td>NaN</td>\n",
       "      <td>NaN</td>\n",
       "      <td>NaN</td>\n",
       "    </tr>\n",
       "    <tr>\n",
       "      <th>3</th>\n",
       "      <td>2006-01-04</td>\n",
       "      <td>1457.217</td>\n",
       "      <td>NaN</td>\n",
       "      <td>NaN</td>\n",
       "      <td>NaN</td>\n",
       "    </tr>\n",
       "    <tr>\n",
       "      <th>4</th>\n",
       "      <td>2006-01-05</td>\n",
       "      <td>1477.131</td>\n",
       "      <td>NaN</td>\n",
       "      <td>NaN</td>\n",
       "      <td>NaN</td>\n",
       "    </tr>\n",
       "  </tbody>\n",
       "</table>\n",
       "</div>"
      ],
      "text/plain": [
       "         Date  Consumption  Wind  Solar  Wind+Solar\n",
       "0  2006-01-01     1069.184   NaN    NaN         NaN\n",
       "1  2006-01-02     1380.521   NaN    NaN         NaN\n",
       "2  2006-01-03     1442.533   NaN    NaN         NaN\n",
       "3  2006-01-04     1457.217   NaN    NaN         NaN\n",
       "4  2006-01-05     1477.131   NaN    NaN         NaN"
      ]
     },
     "execution_count": 3,
     "metadata": {},
     "output_type": "execute_result"
    }
   ],
   "source": [
    "df.head(5)"
   ]
  },
  {
   "cell_type": "code",
   "execution_count": 4,
   "id": "d628ca18",
   "metadata": {},
   "outputs": [
    {
     "data": {
      "text/plain": [
       "'1'"
      ]
     },
     "execution_count": 4,
     "metadata": {},
     "output_type": "execute_result"
    }
   ],
   "source": [
    "x = \"2006-01-01\"\n",
    "x[-4]"
   ]
  },
  {
   "cell_type": "code",
   "execution_count": 5,
   "id": "ca346fea",
   "metadata": {},
   "outputs": [
    {
     "name": "stdout",
     "output_type": "stream",
     "text": [
      "<class 'pandas.core.frame.DataFrame'>\n",
      "RangeIndex: 4383 entries, 0 to 4382\n",
      "Data columns (total 5 columns):\n",
      " #   Column       Non-Null Count  Dtype  \n",
      "---  ------       --------------  -----  \n",
      " 0   Date         4383 non-null   object \n",
      " 1   Consumption  4383 non-null   float64\n",
      " 2   Wind         2920 non-null   float64\n",
      " 3   Solar        2188 non-null   float64\n",
      " 4   Wind+Solar   2187 non-null   float64\n",
      "dtypes: float64(4), object(1)\n",
      "memory usage: 171.3+ KB\n"
     ]
    }
   ],
   "source": [
    "df.info()"
   ]
  },
  {
   "cell_type": "code",
   "execution_count": 6,
   "id": "5ddcca2b",
   "metadata": {},
   "outputs": [
    {
     "data": {
      "text/plain": [
       "21915"
      ]
     },
     "execution_count": 6,
     "metadata": {},
     "output_type": "execute_result"
    }
   ],
   "source": [
    "df.size"
   ]
  },
  {
   "cell_type": "code",
   "execution_count": 7,
   "id": "bdf85f6a",
   "metadata": {},
   "outputs": [
    {
     "data": {
      "text/plain": [
       "(4383, 5)"
      ]
     },
     "execution_count": 7,
     "metadata": {},
     "output_type": "execute_result"
    }
   ],
   "source": [
    "df.shape"
   ]
  },
  {
   "cell_type": "code",
   "execution_count": 8,
   "id": "35d7318a",
   "metadata": {},
   "outputs": [
    {
     "data": {
      "text/plain": [
       "5854"
      ]
     },
     "execution_count": 8,
     "metadata": {},
     "output_type": "execute_result"
    }
   ],
   "source": [
    "df.isna().sum().sum()"
   ]
  },
  {
   "cell_type": "code",
   "execution_count": 9,
   "id": "005c54e1",
   "metadata": {},
   "outputs": [],
   "source": [
    "df[\"Year\"] = df.Date.apply(lambda x: x[0:4]).astype(int)"
   ]
  },
  {
   "cell_type": "code",
   "execution_count": 10,
   "id": "b360dacf",
   "metadata": {},
   "outputs": [],
   "source": [
    "per_year = df.groupby([\"Year\"],as_index=False)[[\"Consumption\",\"Wind\",\"Solar\",\"Wind+Solar\"]].apply(sum)"
   ]
  },
  {
   "cell_type": "code",
   "execution_count": 11,
   "id": "b564b5fe",
   "metadata": {},
   "outputs": [],
   "source": [
    "per_year[\"Wind+Solar\"] = per_year.Solar + per_year.Wind"
   ]
  },
  {
   "cell_type": "code",
   "execution_count": 12,
   "id": "a87487f5",
   "metadata": {},
   "outputs": [],
   "source": [
    "per_year[\"Other_sources\"] = per_year.Consumption - per_year[\"Wind+Solar\"]"
   ]
  },
  {
   "cell_type": "code",
   "execution_count": 13,
   "id": "2a37ef3a",
   "metadata": {},
   "outputs": [
    {
     "data": {
      "text/html": [
       "<div>\n",
       "<style scoped>\n",
       "    .dataframe tbody tr th:only-of-type {\n",
       "        vertical-align: middle;\n",
       "    }\n",
       "\n",
       "    .dataframe tbody tr th {\n",
       "        vertical-align: top;\n",
       "    }\n",
       "\n",
       "    .dataframe thead th {\n",
       "        text-align: right;\n",
       "    }\n",
       "</style>\n",
       "<table border=\"1\" class=\"dataframe\">\n",
       "  <thead>\n",
       "    <tr style=\"text-align: right;\">\n",
       "      <th></th>\n",
       "      <th>Year</th>\n",
       "      <th>Consumption</th>\n",
       "      <th>Wind</th>\n",
       "      <th>Solar</th>\n",
       "      <th>Wind+Solar</th>\n",
       "      <th>Other_sources</th>\n",
       "    </tr>\n",
       "  </thead>\n",
       "  <tbody>\n",
       "    <tr>\n",
       "      <th>0</th>\n",
       "      <td>2006</td>\n",
       "      <td>489068.53600</td>\n",
       "      <td>0.000</td>\n",
       "      <td>0.000</td>\n",
       "      <td>0.000</td>\n",
       "      <td>489068.53600</td>\n",
       "    </tr>\n",
       "    <tr>\n",
       "      <th>1</th>\n",
       "      <td>2007</td>\n",
       "      <td>496631.84700</td>\n",
       "      <td>0.000</td>\n",
       "      <td>0.000</td>\n",
       "      <td>0.000</td>\n",
       "      <td>496631.84700</td>\n",
       "    </tr>\n",
       "    <tr>\n",
       "      <th>2</th>\n",
       "      <td>2008</td>\n",
       "      <td>495570.87600</td>\n",
       "      <td>0.000</td>\n",
       "      <td>0.000</td>\n",
       "      <td>0.000</td>\n",
       "      <td>495570.87600</td>\n",
       "    </tr>\n",
       "    <tr>\n",
       "      <th>3</th>\n",
       "      <td>2009</td>\n",
       "      <td>459737.42800</td>\n",
       "      <td>0.000</td>\n",
       "      <td>0.000</td>\n",
       "      <td>0.000</td>\n",
       "      <td>459737.42800</td>\n",
       "    </tr>\n",
       "    <tr>\n",
       "      <th>4</th>\n",
       "      <td>2010</td>\n",
       "      <td>488588.70000</td>\n",
       "      <td>35911.777</td>\n",
       "      <td>0.000</td>\n",
       "      <td>35911.777</td>\n",
       "      <td>452676.92300</td>\n",
       "    </tr>\n",
       "    <tr>\n",
       "      <th>5</th>\n",
       "      <td>2011</td>\n",
       "      <td>484814.08600</td>\n",
       "      <td>44032.951</td>\n",
       "      <td>0.000</td>\n",
       "      <td>44032.951</td>\n",
       "      <td>440781.13500</td>\n",
       "    </tr>\n",
       "    <tr>\n",
       "      <th>6</th>\n",
       "      <td>2012</td>\n",
       "      <td>469574.75400</td>\n",
       "      <td>45862.667</td>\n",
       "      <td>27887.332</td>\n",
       "      <td>73749.999</td>\n",
       "      <td>395824.75500</td>\n",
       "    </tr>\n",
       "    <tr>\n",
       "      <th>7</th>\n",
       "      <td>2013</td>\n",
       "      <td>463336.85300</td>\n",
       "      <td>47197.832</td>\n",
       "      <td>29559.780</td>\n",
       "      <td>76757.612</td>\n",
       "      <td>386579.24100</td>\n",
       "    </tr>\n",
       "    <tr>\n",
       "      <th>8</th>\n",
       "      <td>2014</td>\n",
       "      <td>504164.82100</td>\n",
       "      <td>51107.672</td>\n",
       "      <td>32498.307</td>\n",
       "      <td>83605.979</td>\n",
       "      <td>420558.84200</td>\n",
       "    </tr>\n",
       "    <tr>\n",
       "      <th>9</th>\n",
       "      <td>2015</td>\n",
       "      <td>505264.56300</td>\n",
       "      <td>77468.994</td>\n",
       "      <td>34907.138</td>\n",
       "      <td>112376.132</td>\n",
       "      <td>392888.43100</td>\n",
       "    </tr>\n",
       "    <tr>\n",
       "      <th>10</th>\n",
       "      <td>2016</td>\n",
       "      <td>505927.35400</td>\n",
       "      <td>77008.126</td>\n",
       "      <td>34562.824</td>\n",
       "      <td>111570.950</td>\n",
       "      <td>394356.40400</td>\n",
       "    </tr>\n",
       "    <tr>\n",
       "      <th>11</th>\n",
       "      <td>2017</td>\n",
       "      <td>504736.36939</td>\n",
       "      <td>102667.365</td>\n",
       "      <td>35882.643</td>\n",
       "      <td>138550.008</td>\n",
       "      <td>366186.36139</td>\n",
       "    </tr>\n",
       "  </tbody>\n",
       "</table>\n",
       "</div>"
      ],
      "text/plain": [
       "    Year   Consumption        Wind      Solar  Wind+Solar  Other_sources\n",
       "0   2006  489068.53600       0.000      0.000       0.000   489068.53600\n",
       "1   2007  496631.84700       0.000      0.000       0.000   496631.84700\n",
       "2   2008  495570.87600       0.000      0.000       0.000   495570.87600\n",
       "3   2009  459737.42800       0.000      0.000       0.000   459737.42800\n",
       "4   2010  488588.70000   35911.777      0.000   35911.777   452676.92300\n",
       "5   2011  484814.08600   44032.951      0.000   44032.951   440781.13500\n",
       "6   2012  469574.75400   45862.667  27887.332   73749.999   395824.75500\n",
       "7   2013  463336.85300   47197.832  29559.780   76757.612   386579.24100\n",
       "8   2014  504164.82100   51107.672  32498.307   83605.979   420558.84200\n",
       "9   2015  505264.56300   77468.994  34907.138  112376.132   392888.43100\n",
       "10  2016  505927.35400   77008.126  34562.824  111570.950   394356.40400\n",
       "11  2017  504736.36939  102667.365  35882.643  138550.008   366186.36139"
      ]
     },
     "execution_count": 13,
     "metadata": {},
     "output_type": "execute_result"
    }
   ],
   "source": [
    "per_year"
   ]
  },
  {
   "cell_type": "code",
   "execution_count": 14,
   "id": "8ecf4d98",
   "metadata": {
    "scrolled": false
   },
   "outputs": [
    {
     "data": {
      "text/plain": [
       "<AxesSubplot:title={'center':'Sources of electricity in Germany (2006-2017)'}, xlabel='Years', ylabel='GWh'>"
      ]
     },
     "execution_count": 14,
     "metadata": {},
     "output_type": "execute_result"
    },
    {
     "data": {
      "image/png": "[encoded data removed]",
      "text/plain": [
       "<Figure size 640x480 with 1 Axes>"
      ]
     },
     "metadata": {},
     "output_type": "display_data"
    }
   ],
   "source": [
    "per_year_1 = per_year.drop([\"Consumption\",\"Wind+Solar\"],axis=1)\n",
    "per_year_1.plot(x=\"Year\", kind=\"bar\", stacked=True,\n",
    "        title=\"Sources of electricity in Germany (2006-2017)\",\n",
    "               xlabel=\"Years\",\n",
    "               ylabel=\"GWh\",\n",
    "               grid=True)"
   ]
  },
  {
   "cell_type": "code",
   "execution_count": 15,
   "id": "54746413",
   "metadata": {},
   "outputs": [],
   "source": [
    "df[\"Month\"] = df.Date.apply(lambda x: x[5:7]).astype(int)"
   ]
  },
  {
   "cell_type": "code",
   "execution_count": 16,
   "id": "5d5c877f",
   "metadata": {},
   "outputs": [],
   "source": [
    "per_month = df.groupby([\"Month\"],as_index=False)[\"Consumption\"].sum()"
   ]
  },
  {
   "cell_type": "code",
   "execution_count": 17,
   "id": "9901bdaa",
   "metadata": {},
   "outputs": [
    {
     "data": {
      "image/png": "[encoded data removed]",
      "text/plain": [
       "<Figure size 640x480 with 1 Axes>"
      ]
     },
     "metadata": {},
     "output_type": "display_data"
    }
   ],
   "source": [
    "sns.barplot(x=per_month.Month,y=per_month.Consumption)\n",
    "plt.title(\"Consumption per month 2006-2017\")\n",
    "plt.ylabel(\"Consumption (GWh)\")\n",
    "plt.xlabel(\"Months\")\n",
    "plt.show()"
   ]
  },
  {
   "cell_type": "code",
   "execution_count": null,
   "id": "0dd5df24",
   "metadata": {},
   "outputs": [],
   "source": []
  }
 ],
 "metadata": {
  "kernelspec": {
   "display_name": "Python 3 (ipykernel)",
   "language": "python",
   "name": "python3"
  },
  "language_info": {
   "codemirror_mode": {
    "name": "ipython",
    "version": 3
   },
   "file_extension": ".py",
   "mimetype": "text/x-python",
   "name": "python",
   "nbconvert_exporter": "python",
   "pygments_lexer": "ipython3",
   "version": "3.9.13"
  }
 },
 "nbformat": 4,
 "nbformat_minor": 5
}
